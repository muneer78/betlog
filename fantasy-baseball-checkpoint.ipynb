{
 "cells": [
  {
   "cell_type": "code",
   "execution_count": 8,
   "id": "3abbcb30",
   "metadata": {},
   "outputs": [
    {
     "name": "stdout",
     "output_type": "stream",
     "text": [
      "                     Name Team  xERA  KMinusBB  Barrel   CSW  Starting  \\\n",
      "playerid                                                                 \n",
      "2036      Clayton Kershaw  LAD  2.51      23.1     4.2  31.0      34.1   \n",
      "\n",
      "          Relieving  TBF  GS  SV  XFIPMinus  KToBB  HRPer9  WHIP  BABIP  \n",
      "playerid                                                                 \n",
      "2036            NaN  493  22   0         71  218.0      65    74     92  \n",
      "(1, 16)\n",
      "                    Name Team  xERA  KMinusBB  Barrel   CSW  Starting  \\\n",
      "playerid                                                                \n",
      "17998     Pete Fairbanks  TBR  1.03      40.2     2.2  34.4       NaN   \n",
      "14710         Edwin Diaz  NYM  1.69      42.6     4.1  42.1       NaN   \n",
      "\n",
      "          Relieving  TBF  GS  SV  XFIPMinus  KToBB  HRPer9  WHIP  BABIP  \n",
      "playerid                                                                 \n",
      "17998          11.3   87   0   8         27  458.0      35    53     93  \n",
      "14710          27.8  235   0  32         27  240.0      39    66    113  \n",
      "(2, 16)\n"
     ]
    },
    {
     "name": "stderr",
     "output_type": "stream",
     "text": [
      "/var/folders/02/myk5fvfn19z9g1v5vsqgnsjm0000gq/T/ipykernel_36409/3530092725.py:8: FutureWarning: The default value of regex will change from True to False in a future version.\n",
      "  df.columns = df.columns.str.replace('[+,-,%,]', '')\n"
     ]
    },
    {
     "ename": "AttributeError",
     "evalue": "'NoneType' object has no attribute 'drop'",
     "output_type": "error",
     "traceback": [
      "\u001b[0;31m---------------------------------------------------------------------------\u001b[0m",
      "\u001b[0;31mAttributeError\u001b[0m                            Traceback (most recent call last)",
      "\u001b[0;32m/var/folders/02/myk5fvfn19z9g1v5vsqgnsjm0000gq/T/ipykernel_36409/3530092725.py\u001b[0m in \u001b[0;36m<module>\u001b[0;34m\u001b[0m\n\u001b[1;32m     24\u001b[0m \u001b[0mprint\u001b[0m\u001b[0;34m(\u001b[0m\u001b[0mfilters2\u001b[0m\u001b[0;34m.\u001b[0m\u001b[0mshape\u001b[0m\u001b[0;34m)\u001b[0m\u001b[0;34m\u001b[0m\u001b[0;34m\u001b[0m\u001b[0m\n\u001b[1;32m     25\u001b[0m \u001b[0;34m\u001b[0m\u001b[0m\n\u001b[0;32m---> 26\u001b[0;31m \u001b[0mfilters1\u001b[0m\u001b[0;34m.\u001b[0m\u001b[0mto_excel\u001b[0m\u001b[0;34m(\u001b[0m\u001b[0;34m\"pitchingSP.xlsx\"\u001b[0m\u001b[0;34m,\u001b[0m \u001b[0msheet_name\u001b[0m\u001b[0;34m=\u001b[0m\u001b[0;34m'StartersSeason'\u001b[0m\u001b[0;34m)\u001b[0m\u001b[0;34m.\u001b[0m\u001b[0mdrop\u001b[0m\u001b[0;34m(\u001b[0m\u001b[0mcolumns\u001b[0m\u001b[0;34m=\u001b[0m\u001b[0;34m[\u001b[0m\u001b[0;34m'Relieving'\u001b[0m\u001b[0;34m]\u001b[0m\u001b[0;34m)\u001b[0m\u001b[0;34m\u001b[0m\u001b[0;34m\u001b[0m\u001b[0m\n\u001b[0m\u001b[1;32m     27\u001b[0m \u001b[0mfilters2\u001b[0m\u001b[0;34m.\u001b[0m\u001b[0mto_excel\u001b[0m\u001b[0;34m(\u001b[0m\u001b[0;34m\"pitchingRP.xlsx\"\u001b[0m\u001b[0;34m,\u001b[0m \u001b[0msheet_name\u001b[0m\u001b[0;34m=\u001b[0m\u001b[0;34m'RelieversSeason'\u001b[0m\u001b[0;34m)\u001b[0m\u001b[0;34m.\u001b[0m\u001b[0mdrop\u001b[0m\u001b[0;34m(\u001b[0m\u001b[0mcolumns\u001b[0m\u001b[0;34m=\u001b[0m\u001b[0;34m[\u001b[0m\u001b[0;34m'Starting'\u001b[0m\u001b[0;34m]\u001b[0m\u001b[0;34m)\u001b[0m\u001b[0;34m\u001b[0m\u001b[0;34m\u001b[0m\u001b[0m\n",
      "\u001b[0;31mAttributeError\u001b[0m: 'NoneType' object has no attribute 'drop'"
     ]
    }
   ],
   "source": [
    "import pandas as pd\n",
    "\n",
    "def percent_to_float(s):\n",
    "  float(stringPercent[:-1]) / 100\n",
    "\n",
    "df = pd.read_csv(\"fangraphs.csv\", index_col=[\"playerid\"])\n",
    "\n",
    "df.columns = df.columns.str.replace('[+,-,%,]', '')\n",
    "df.rename(columns={'K-BB':'KMinusBB','K/BB':'KToBB', 'HR/9':'HRPer9', 'xFIP-':'XFIPMinus'}, inplace=True)\n",
    "df.fillna(0)\n",
    "\n",
    "df['KMinusBB'] = df['KMinusBB'] = df['KMinusBB'].str.rstrip('%').astype('float')\n",
    "df['Barrel'] = df['Barrel'] = df['Barrel'].str.rstrip('%').astype('float')\n",
    "df['CSW'] = df['CSW'] = df['CSW'].str.rstrip('%').astype('float')\n",
    "\n",
    "filters1 = df[(df['xERA'] < 3) & (df['Barrel'] < 5) & (df['CSW'] > 20) & (df['KMinusBB'] > 20) & (df['Starting'] > 5)] \n",
    "filters2 = df[(df['xERA'] < 3) & (df['Barrel'] < 5) & (df['CSW'] > 20) & (df['KMinusBB'] > 30) & (df['Relieving'] > 1)] \n",
    "\n",
    "print(filters1.head())\n",
    "print(filters1.shape)\n",
    "\n",
    "print(filters2.head())\n",
    "print(filters2.shape)\n",
    "\n",
    "filters1.to_excel(\"pitchingSP.xlsx\", sheet_name='StartersSeason')\n",
    "filters2.to_excel(\"pitchingRP.xlsx\", sheet_name='RelieversSeason')"
   ]
  },
  {
   "cell_type": "code",
   "execution_count": null,
   "id": "ab6ca93e",
   "metadata": {},
   "outputs": [],
   "source": [
    "import pandas as pd\n",
    "\n",
    "def percent_to_float(s):\n",
    "  float(stringPercent[:-1]) / 100\n",
    "\n",
    "df = pd.read_csv(\"fangraphs.csv\", index_col=[\"playerid\"])\n",
    "\n",
    "df.columns = df.columns.str.replace('[+,-,%,]', '')\n",
    "df.rename(columns={'K-BB':'KMinusBB','K/BB':'KToBB', 'HR/9':'HRPer9', 'xFIP-':'XFIPMinus'}, inplace=True)\n",
    "df.fillna(0)\n",
    "\n",
    "df['KMinusBB'] = df['KMinusBB'] = df['KMinusBB'].str.rstrip('%').astype('float')\n",
    "df['Barrel'] = df['Barrel'] = df['Barrel'].str.rstrip('%').astype('float')\n",
    "df['CSW'] = df['CSW'] = df['CSW'].str.rstrip('%').astype('float')\n",
    "\n",
    "filters1 = df[(df['xERA'] < 3) & (df['Barrel'] < 5) & (df['CSW'] > 20) & (df['KMinusBB'] > 20) & (df['Starting'] > 5)] \n",
    "filters2 = df[(df['xERA'] < 3) & (df['Barrel'] < 5) & (df['CSW'] > 20) & (df['KMinusBB'] > 30) & (df['Relieving'] > 1)] \n",
    "\n",
    "print(filters1.drop(['Relieving'],axis=1))\n",
    "print(filters2.drop(['Starting'],axis=1))\n",
    "\n",
    "filters1.to_excel(\"pitchingSP.xlsx\", sheet_name='StartersSeason')\n",
    "filters2.to_excel(\"pitchingRP.xlsx\", sheet_name='RelieversSeason')"
   ]
  }
 ],
 "metadata": {
  "kernelspec": {
   "display_name": "Python 3 (ipykernel)",
   "language": "python",
   "name": "python3"
  },
  "language_info": {
   "codemirror_mode": {
    "name": "ipython",
    "version": 3
   },
   "file_extension": ".py",
   "mimetype": "text/x-python",
   "name": "python",
   "nbconvert_exporter": "python",
   "pygments_lexer": "ipython3",
   "version": "3.9.13"
  }
 },
 "nbformat": 4,
 "nbformat_minor": 5
}
