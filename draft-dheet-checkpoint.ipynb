{
 "cells": [
  {
   "cell_type": "code",
   "execution_count": 27,
   "id": "a37831af",
   "metadata": {},
   "outputs": [],
   "source": [
    "import pandas as pd\n",
    "from functools import partial, reduce\n",
    "\n",
    "dffgpit = pd.read_csv(\"fg.csv\")\n",
    "dffghit = pd.read_csv(\"fg2.csv\")\n",
    "dfstuff = pd.read_csv(\"stuffplus.csv\")\n",
    "dfadp= pd.read_csv(\"adp.csv\")"
   ]
  },
  {
   "cell_type": "code",
   "execution_count": 28,
   "id": "9e5b9a57",
   "metadata": {},
   "outputs": [],
   "source": [
    "dffghit = dffghit.replace(r'[^\\w\\s]|_\\*', '', regex=True)\n",
    "dfstuff = dfstuff.replace(r'[^\\w\\s]|_\\*', '', regex=True)\n",
    "dfadp= dfadp.replace(r'[^\\w\\s]|_\\*', '', regex=True)\n",
    "dffgpit = dffgpit.replace(r'[^\\w\\s]|_\\*', '', regex=True)"
   ]
  },
  {
   "cell_type": "code",
   "execution_count": 29,
   "id": "abc64d55",
   "metadata": {},
   "outputs": [],
   "source": [
    "dfadp = dfadp.astype(str)"
   ]
  },
  {
   "cell_type": "code",
   "execution_count": 30,
   "id": "5a2f3009",
   "metadata": {},
   "outputs": [],
   "source": [
    "func = lambda x: ''.join([i[:3] for i in x.strip().split(' ')])\n",
    "dffghit['Key'] = dffghit.Name.apply(func)\n",
    "dffgpit['Key'] = dffgpit.Name.apply(func)\n",
    "dfstuff['Key'] = dfstuff.player_name.apply(func)\n",
    "dfadp['Key'] = dfadp.Player.apply(func)"
   ]
  },
  {
   "cell_type": "code",
   "execution_count": 31,
   "id": "4da669e2",
   "metadata": {},
   "outputs": [],
   "source": [
    "dffghit.columns = dffghit.columns.str.strip()\n",
    "dfstuff.columns = dfstuff.columns.str.strip()\n",
    "dfadp.columns = dfadp.columns.str.strip()\n",
    "dffgpit.columns = dffgpit.columns.str.strip()"
   ]
  },
  {
   "cell_type": "code",
   "execution_count": 32,
   "id": "e1fc794d",
   "metadata": {},
   "outputs": [],
   "source": [
    "df1 = dfadp.merge(dffghit, how=\"left\", on=[\"Key\"]).merge(dfstuff, how=\"left\", on=[\"Key\"]).merge(dffgpit, how=\"left\", on=[\"Key\"])"
   ]
  },
  {
   "cell_type": "code",
   "execution_count": 33,
   "id": "b8629dc7",
   "metadata": {},
   "outputs": [],
   "source": [
    "df1 = df1.drop(['MLBAMID','playerid_x','playerid_y','player_name','Key','ESPN','CBS','RTS','NFBC','FT','Name_x','Name_y','Team_y','Team'], axis=1)"
   ]
  },
  {
   "cell_type": "code",
   "execution_count": 34,
   "id": "aa66a5ea",
   "metadata": {},
   "outputs": [],
   "source": [
    "df1 = df1.fillna('')"
   ]
  },
  {
   "cell_type": "code",
   "execution_count": 35,
   "id": "d38654f5",
   "metadata": {},
   "outputs": [],
   "source": [
    "df1.to_csv('output.csv')"
   ]
  },
  {
   "cell_type": "code",
   "execution_count": null,
   "id": "97be3176",
   "metadata": {},
   "outputs": [],
   "source": []
  }
 ],
 "metadata": {
  "kernelspec": {
   "display_name": "Python 3 (ipykernel)",
   "language": "python",
   "name": "python3"
  },
  "language_info": {
   "codemirror_mode": {
    "name": "ipython",
    "version": 3
   },
   "file_extension": ".py",
   "mimetype": "text/x-python",
   "name": "python",
   "nbconvert_exporter": "python",
   "pygments_lexer": "ipython3",
   "version": "3.9.13"
  }
 },
 "nbformat": 4,
 "nbformat_minor": 5
}
