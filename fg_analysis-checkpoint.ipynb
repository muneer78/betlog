{
 "cells": [
  {
   "cell_type": "code",
   "execution_count": 63,
   "metadata": {
    "scrolled": false
   },
   "outputs": [
    {
     "name": "stdout",
     "output_type": "stream",
     "text": [
      "Requirement already satisfied: xlsxwriter in c:\\users\\maden\\anaconda3\\envs\\python_3.7\\lib\\site-packages (3.0.5)\n"
     ]
    }
   ],
   "source": [
    "# Install a pip package in the current Jupyter kernel\n",
    "import sys\n",
    "!{sys.executable} -m pip install xlsxwriter"
   ]
  },
  {
   "cell_type": "code",
   "execution_count": 3,
   "metadata": {},
   "outputs": [],
   "source": [
    "import pandas as pd\n",
    "from datetime import date, datetime, timedelta"
   ]
  },
  {
   "cell_type": "code",
   "execution_count": 64,
   "metadata": {},
   "outputs": [
    {
     "name": "stdout",
     "output_type": "stream",
     "text": [
      "Today's date:  2022-10-31\n",
      "2022-10-24\n"
     ]
    }
   ],
   "source": [
    "#today = date.today()\n",
    "today = datetime.strptime('2022-10-31', '%Y-%m-%d').date() # pinning to last day of baseball season\n",
    "print(\"Today's date: \", today)\n",
    "#example of date lookback\n",
    "print(today-timedelta(days=7))"
   ]
  },
  {
   "cell_type": "markdown",
   "metadata": {},
   "source": [
    "# Hitters Last 'n' days"
   ]
  },
  {
   "cell_type": "code",
   "execution_count": 65,
   "metadata": {},
   "outputs": [],
   "source": [
    "def hitters_preprocessing(filepath):\n",
    "    df = pd.read_csv(filepath, index_col=[\"playerid\"])\n",
    "    \n",
    "    df.columns = df.columns.str.replace('[+,-,%,]', '')\n",
    "    df.rename(columns={'K%-':'K','BB%-':'BB'}, inplace=True)\n",
    "    df.fillna(0)\n",
    "\n",
    "    df['Barrel'] = df['Barrel'] = df['Barrel'].str.rstrip('%').astype('float')\n",
    "\n",
    "    filters = df[(df['wRC'] >135) & (df['OPS'] > .8) & (df['K'] < 95) & (df['BB'] > 100) & (df['Off'] > 1) & (df['Barrel'] > 10)].sort_values(by='Off', ascending=False) \n",
    "    print(filters.head())\n",
    "    return filters\n",
    "    "
   ]
  },
  {
   "cell_type": "code",
   "execution_count": 66,
   "metadata": {},
   "outputs": [
    {
     "name": "stdout",
     "output_type": "stream",
     "text": [
      "                    Name Team  PA  HR  SB  BABIP     K     BB    ISO    wRC  \\\n",
      "playerid                                                                      \n",
      "16478     Kyle Schwarber  PHI  29   4   1  114.0  91.0  289.0  411.0  295.0   \n",
      "10155         Mike Trout  LAA  27   2   0  162.0  67.0  186.0  291.0  279.0   \n",
      "1177       Albert Pujols  STL  14   3   0  129.0  32.0  171.0  538.0  410.0   \n",
      "18314     Dansby Swanson  ATL  22   3   0   79.0  80.0  109.0  323.0  215.0   \n",
      "22664     Gabriel Moreno  TOR   9   1   0  197.0   0.0  140.0  251.0  377.0   \n",
      "\n",
      "          Barrels    OPS  Barrel  Off     EV  \n",
      "playerid                                      \n",
      "16478         4.0  1.517    25.0  6.7  100.9  \n",
      "10155         3.0  1.388    15.8  5.4   89.7  \n",
      "1177          3.0  1.905    27.3  4.8   93.5  \n",
      "18314         4.0  1.164    25.0  3.0   97.1  \n",
      "22664         1.0  1.667    12.5  2.8   92.4  \n",
      "                    Name Team  PA  HR  SB  BABIP     K     BB    ISO    wRC  \\\n",
      "playerid                                                                      \n",
      "11899       Joc Pederson  SFG  35   1   0  172.0  76.0  205.0  222.0  250.0   \n",
      "19251        Pete Alonso  NYM  42   3   0  127.0  53.0  199.0  203.0  226.0   \n",
      "1177       Albert Pujols  STL  31   5   0  101.0  86.0  116.0  369.0  271.0   \n",
      "19326     Bryan Reynolds  PIT  55   3   1  114.0  88.0  131.0  191.0  183.0   \n",
      "12532        Kolten Wong  MIL  37   3   2   98.0  72.0  226.0  215.0  191.0   \n",
      "\n",
      "          Barrels    OPS  Barrel  Off    EV  \n",
      "playerid                                     \n",
      "11899         3.0  1.273    13.0  6.1  90.2  \n",
      "19251         5.0  1.162    16.7  5.9  89.5  \n",
      "1177          6.0  1.348    27.3  5.6  92.9  \n",
      "19326         6.0  1.027    18.2  5.3  96.2  \n",
      "12532         3.0  1.066    12.5  4.1  85.3  \n"
     ]
    }
   ],
   "source": [
    "# Prepare the workbook for adding new sheets\n",
    "path = \"fg_analysis.xlsx\"\n",
    "\n",
    "# Preprocess and export the dataframes to Excel workbook sheets\n",
    "daywindow = [7, 14]\n",
    "with pd.ExcelWriter(path, engine = \"openpyxl\", mode=\"w\") as writer:\n",
    "    for w in daywindow:\n",
    "        df = hitters_preprocessing(f'fgl_hitters_last_{w}.csv')\n",
    "        df.to_excel(writer, sheet_name=f'Hitters Last {w} Days', index=False)\n",
    "        df.columns\n",
    "    writer.close()\n"
   ]
  }
 ],
 "metadata": {
  "kernelspec": {
   "display_name": "Python_3.7",
   "language": "python",
   "name": "python_3.7"
  },
  "language_info": {
   "codemirror_mode": {
    "name": "ipython",
    "version": 3
   },
   "file_extension": ".py",
   "mimetype": "text/x-python",
   "name": "python",
   "nbconvert_exporter": "python",
   "pygments_lexer": "ipython3",
   "version": "3.7.9"
  }
 },
 "nbformat": 4,
 "nbformat_minor": 4
}
