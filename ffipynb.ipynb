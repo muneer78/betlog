{
 "cells": [
  {
   "cell_type": "code",
   "execution_count": 17,
   "id": "14787177",
   "metadata": {},
   "outputs": [],
   "source": [
    "import pandas as pd\n",
    "import numpy as np\n",
    "from csv import DictReader\n",
    "\n",
    "dfath = pd.read_csv('AthleticOLine.csv')\n",
    "dfcbs = pd.read_csv('CBSSportsSOS.csv')\n",
    "dffp = pd.read_csv('FantasyProsOLine.csv')\n",
    "dffbs = pd.read_csv('FBSchedulesSOS.csv')\n",
    "dfpff = pd.read_csv('PFFOLine.csv')\n",
    "dfplayer = pd.read_csv('Player List.csv')"
   ]
  },
  {
   "cell_type": "code",
   "execution_count": 18,
   "id": "05fbe056",
   "metadata": {},
   "outputs": [
    {
     "name": "stdout",
     "output_type": "stream",
     "text": [
      "[{'Original Value': 'Philadelphia', 'New Value': 'PHI'}, {'Original Value': 'Dallas', 'New Value': 'DAL'}, {'Original Value': 'Pittsburgh', 'New Value': 'PIT'}, {'Original Value': 'Tennessee', 'New Value': 'TEN'}, {'Original Value': 'Indianapolis', 'New Value': 'IND'}, {'Original Value': 'NE', 'New Value': 'NE'}, {'Original Value': 'NO', 'New Value': 'NO'}, {'Original Value': 'GB', 'New Value': 'GB'}, {'Original Value': 'Chicago', 'New Value': 'CHI'}, {'Original Value': 'Carolina', 'New Value': 'CAR'}, {'Original Value': 'Baltimore', 'New Value': 'BAL'}, {'Original Value': 'Denver', 'New Value': 'DEN'}, {'Original Value': 'LAR', 'New Value': 'LAR'}, {'Original Value': 'Washington', 'New Value': 'WAS'}, {'Original Value': 'Detroit', 'New Value': 'DET'}, {'Original Value': 'SF', 'New Value': 'SF'}, {'Original Value': 'KC', 'New Value': 'KC'}, {'Original Value': 'NYG', 'New Value': 'NYG'}, {'Original Value': 'Buffalo', 'New Value': 'BUF'}, {'Original Value': 'Cleveland', 'New Value': 'CLE'}, {'Original Value': 'Jacksonville', 'New Value': 'JAC'}, {'Original Value': 'Atlanta', 'New Value': 'ATL'}, {'Original Value': 'Seattle', 'New Value': 'SEA'}, {'Original Value': 'TB', 'New Value': 'TB'}, {'Original Value': 'Minnesota', 'New Value': 'MIN'}, {'Original Value': 'LV', 'New Value': 'LV'}, {'Original Value': 'Cincinnati', 'New Value': 'CIN'}, {'Original Value': 'NYJ', 'New Value': 'NYJ'}, {'Original Value': 'LAC', 'New Value': 'LAC'}, {'Original Value': 'Arizona', 'New Value': 'ARI'}, {'Original Value': 'Houston', 'New Value': 'HOU'}, {'Original Value': 'Miami', 'New Value': 'MIA'}, {'Original Value': 'LA Rams', 'New Value': 'LAR'}, {'Original Value': 'Arizona Cardinals', 'New Value': 'ARI'}, {'Original Value': 'Cincinnati Bengals', 'New Value': 'CIN'}, {'Original Value': 'Tampa Bay Buccaneers', 'New Value': 'TB'}, {'Original Value': 'San Francisco 49ers', 'New Value': 'SF'}, {'Original Value': 'Kansas City Chiefs', 'New Value': 'KC'}, {'Original Value': 'Las Vegas Raiders', 'New Value': 'LV'}, {'Original Value': 'New Orleans Saints', 'New Value': 'NO'}, {'Original Value': 'Atlanta Falcons', 'New Value': 'ATL'}, {'Original Value': 'LA Chargers', 'New Value': 'LAC'}, {'Original Value': 'Seattle Seahawks', 'New Value': 'SEA'}, {'Original Value': 'Pittsburgh Steelers', 'New Value': 'PIT'}, {'Original Value': 'Carolina Panthers', 'New Value': 'CAR'}, {'Original Value': 'Buffalo Bills', 'New Value': 'BUF'}, {'Original Value': 'Denver Broncos', 'New Value': 'DEN'}, {'Original Value': 'New England Patriots', 'New Value': 'NE'}, {'Original Value': 'New York Jets', 'New Value': 'NYJ'}, {'Original Value': 'Cleveland Browns', 'New Value': 'CLE'}, {'Original Value': 'Houston Texans', 'New Value': 'HOU'}, {'Original Value': 'Minnesota Vikings', 'New Value': 'MIN'}, {'Original Value': 'Miami Dolphins', 'New Value': 'MIA'}, {'Original Value': 'Green Bay Packers', 'New Value': 'GB'}, {'Original Value': 'Baltimore Ravens', 'New Value': 'BAL'}, {'Original Value': 'Chicago Bears', 'New Value': 'CHI'}, {'Original Value': 'Tennessee Titans', 'New Value': 'TEN'}, {'Original Value': 'Jacksonville Jaguars', 'New Value': 'JAC'}, {'Original Value': 'Indianapolis Colts', 'New Value': 'IND'}, {'Original Value': 'Detroit Lions', 'New Value': 'DET'}, {'Original Value': 'New York Giants', 'New Value': 'NYG'}, {'Original Value': 'Philadelphia Eagles', 'New Value': 'PHI'}, {'Original Value': 'Washington Commanders', 'New Value': 'WAS'}, {'Original Value': 'Dallas Cowboys', 'New Value': 'DAL'}, {'Original Value': 'Cardinals', 'New Value': 'ARI'}, {'Original Value': 'Bengals', 'New Value': 'CIN'}, {'Original Value': 'Buccaneers', 'New Value': 'TB'}, {'Original Value': '49ers', 'New Value': 'SF'}, {'Original Value': 'Chiefs', 'New Value': 'KC'}, {'Original Value': 'Raiders', 'New Value': 'LV'}, {'Original Value': 'Saints', 'New Value': 'NO'}, {'Original Value': 'Falcons', 'New Value': 'ATL'}, {'Original Value': 'Chargers', 'New Value': 'LAC'}, {'Original Value': 'Seahawks', 'New Value': 'SEA'}, {'Original Value': 'Steelers', 'New Value': 'PIT'}, {'Original Value': 'Panthers', 'New Value': 'CAR'}, {'Original Value': 'Bills', 'New Value': 'BUF'}, {'Original Value': 'Broncos', 'New Value': 'DEN'}, {'Original Value': 'Patriots', 'New Value': 'NE'}, {'Original Value': 'Jets', 'New Value': 'NYJ'}, {'Original Value': 'Browns', 'New Value': 'CLE'}, {'Original Value': 'Texans', 'New Value': 'HOU'}, {'Original Value': 'Vikings', 'New Value': 'MIN'}, {'Original Value': 'Dolphins', 'New Value': 'MIA'}, {'Original Value': 'Packers', 'New Value': 'GB'}, {'Original Value': 'Ravens', 'New Value': 'BAL'}, {'Original Value': 'Bears', 'New Value': 'CHI'}, {'Original Value': 'Titans', 'New Value': 'TEN'}, {'Original Value': 'Jaguars', 'New Value': 'JAC'}, {'Original Value': 'Colts', 'New Value': 'IND'}, {'Original Value': 'Lions', 'New Value': 'DET'}, {'Original Value': 'Giants', 'New Value': 'NYG'}, {'Original Value': 'Eagles', 'New Value': 'PHI'}, {'Original Value': 'Commanders', 'New Value': 'WAS'}, {'Original Value': 'Cowboys', 'New Value': 'DAL'}]\n"
     ]
    }
   ],
   "source": [
    "with open(\"TeamDict.csv\", 'r') as f:\n",
    "    dict_reader = DictReader(f)\n",
    "    team_dict = list(dict_reader)\n",
    "    print(team_dict)"
   ]
  },
  {
   "cell_type": "code",
   "execution_count": 21,
   "id": "d51c58f2",
   "metadata": {},
   "outputs": [
    {
     "ename": "KeyError",
     "evalue": "'TEAM'",
     "output_type": "error",
     "traceback": [
      "\u001b[1;31m---------------------------------------------------------------------------\u001b[0m",
      "\u001b[1;31mKeyError\u001b[0m                                  Traceback (most recent call last)",
      "\u001b[1;32m~\\Anaconda3\\lib\\site-packages\\pandas\\core\\indexes\\base.py\u001b[0m in \u001b[0;36mget_loc\u001b[1;34m(self, key, method, tolerance)\u001b[0m\n\u001b[0;32m   3360\u001b[0m             \u001b[1;32mtry\u001b[0m\u001b[1;33m:\u001b[0m\u001b[1;33m\u001b[0m\u001b[1;33m\u001b[0m\u001b[0m\n\u001b[1;32m-> 3361\u001b[1;33m                 \u001b[1;32mreturn\u001b[0m \u001b[0mself\u001b[0m\u001b[1;33m.\u001b[0m\u001b[0m_engine\u001b[0m\u001b[1;33m.\u001b[0m\u001b[0mget_loc\u001b[0m\u001b[1;33m(\u001b[0m\u001b[0mcasted_key\u001b[0m\u001b[1;33m)\u001b[0m\u001b[1;33m\u001b[0m\u001b[1;33m\u001b[0m\u001b[0m\n\u001b[0m\u001b[0;32m   3362\u001b[0m             \u001b[1;32mexcept\u001b[0m \u001b[0mKeyError\u001b[0m \u001b[1;32mas\u001b[0m \u001b[0merr\u001b[0m\u001b[1;33m:\u001b[0m\u001b[1;33m\u001b[0m\u001b[1;33m\u001b[0m\u001b[0m\n",
      "\u001b[1;32m~\\Anaconda3\\lib\\site-packages\\pandas\\_libs\\index.pyx\u001b[0m in \u001b[0;36mpandas._libs.index.IndexEngine.get_loc\u001b[1;34m()\u001b[0m\n",
      "\u001b[1;32m~\\Anaconda3\\lib\\site-packages\\pandas\\_libs\\index.pyx\u001b[0m in \u001b[0;36mpandas._libs.index.IndexEngine.get_loc\u001b[1;34m()\u001b[0m\n",
      "\u001b[1;32mpandas\\_libs\\hashtable_class_helper.pxi\u001b[0m in \u001b[0;36mpandas._libs.hashtable.PyObjectHashTable.get_item\u001b[1;34m()\u001b[0m\n",
      "\u001b[1;32mpandas\\_libs\\hashtable_class_helper.pxi\u001b[0m in \u001b[0;36mpandas._libs.hashtable.PyObjectHashTable.get_item\u001b[1;34m()\u001b[0m\n",
      "\u001b[1;31mKeyError\u001b[0m: 'TEAM'",
      "\nThe above exception was the direct cause of the following exception:\n",
      "\u001b[1;31mKeyError\u001b[0m                                  Traceback (most recent call last)",
      "\u001b[1;32m~\\AppData\\Local\\Temp/ipykernel_5656/3920497774.py\u001b[0m in \u001b[0;36m<module>\u001b[1;34m\u001b[0m\n\u001b[0;32m      4\u001b[0m     \u001b[0mdflist\u001b[0m\u001b[1;33m[\u001b[0m\u001b[0mindex\u001b[0m\u001b[1;33m]\u001b[0m\u001b[1;33m.\u001b[0m\u001b[0mrename\u001b[0m\u001b[1;33m(\u001b[0m\u001b[0mcolumns\u001b[0m\u001b[1;33m=\u001b[0m\u001b[0mstr\u001b[0m\u001b[1;33m.\u001b[0m\u001b[0mtitle\u001b[0m\u001b[1;33m,\u001b[0m \u001b[0minplace\u001b[0m\u001b[1;33m=\u001b[0m\u001b[1;32mTrue\u001b[0m\u001b[1;33m)\u001b[0m\u001b[1;33m\u001b[0m\u001b[1;33m\u001b[0m\u001b[0m\n\u001b[0;32m      5\u001b[0m \u001b[1;33m\u001b[0m\u001b[0m\n\u001b[1;32m----> 6\u001b[1;33m \u001b[0mdfcbs\u001b[0m\u001b[1;33m[\u001b[0m\u001b[1;34m'TEAM'\u001b[0m\u001b[1;33m]\u001b[0m \u001b[1;33m=\u001b[0m \u001b[0mdfcbs\u001b[0m\u001b[1;33m[\u001b[0m\u001b[1;34m'TEAM'\u001b[0m\u001b[1;33m]\u001b[0m\u001b[1;33m.\u001b[0m\u001b[0mreplace\u001b[0m\u001b[1;33m(\u001b[0m\u001b[0mteam_dict\u001b[0m\u001b[1;33m)\u001b[0m\u001b[1;33m\u001b[0m\u001b[1;33m\u001b[0m\u001b[0m\n\u001b[0m\u001b[0;32m      7\u001b[0m \u001b[0mdffbs\u001b[0m\u001b[1;33m[\u001b[0m\u001b[1;34m'TEAM'\u001b[0m\u001b[1;33m]\u001b[0m \u001b[1;33m=\u001b[0m \u001b[0mdffbs\u001b[0m\u001b[1;33m[\u001b[0m\u001b[1;34m'TEAM'\u001b[0m\u001b[1;33m]\u001b[0m\u001b[1;33m.\u001b[0m\u001b[0mreplace\u001b[0m\u001b[1;33m(\u001b[0m\u001b[0mteam_dict\u001b[0m\u001b[1;33m)\u001b[0m\u001b[1;33m\u001b[0m\u001b[1;33m\u001b[0m\u001b[0m\n\u001b[0;32m      8\u001b[0m \u001b[0mdfpff\u001b[0m\u001b[1;33m[\u001b[0m\u001b[1;34m'Team'\u001b[0m\u001b[1;33m]\u001b[0m \u001b[1;33m=\u001b[0m \u001b[0mdffpp\u001b[0m\u001b[1;33m[\u001b[0m\u001b[1;34m'Team'\u001b[0m\u001b[1;33m]\u001b[0m\u001b[1;33m.\u001b[0m\u001b[0mreplace\u001b[0m\u001b[1;33m(\u001b[0m\u001b[0mteam_dict\u001b[0m\u001b[1;33m)\u001b[0m\u001b[1;33m\u001b[0m\u001b[1;33m\u001b[0m\u001b[0m\n",
      "\u001b[1;32m~\\Anaconda3\\lib\\site-packages\\pandas\\core\\frame.py\u001b[0m in \u001b[0;36m__getitem__\u001b[1;34m(self, key)\u001b[0m\n\u001b[0;32m   3456\u001b[0m             \u001b[1;32mif\u001b[0m \u001b[0mself\u001b[0m\u001b[1;33m.\u001b[0m\u001b[0mcolumns\u001b[0m\u001b[1;33m.\u001b[0m\u001b[0mnlevels\u001b[0m \u001b[1;33m>\u001b[0m \u001b[1;36m1\u001b[0m\u001b[1;33m:\u001b[0m\u001b[1;33m\u001b[0m\u001b[1;33m\u001b[0m\u001b[0m\n\u001b[0;32m   3457\u001b[0m                 \u001b[1;32mreturn\u001b[0m \u001b[0mself\u001b[0m\u001b[1;33m.\u001b[0m\u001b[0m_getitem_multilevel\u001b[0m\u001b[1;33m(\u001b[0m\u001b[0mkey\u001b[0m\u001b[1;33m)\u001b[0m\u001b[1;33m\u001b[0m\u001b[1;33m\u001b[0m\u001b[0m\n\u001b[1;32m-> 3458\u001b[1;33m             \u001b[0mindexer\u001b[0m \u001b[1;33m=\u001b[0m \u001b[0mself\u001b[0m\u001b[1;33m.\u001b[0m\u001b[0mcolumns\u001b[0m\u001b[1;33m.\u001b[0m\u001b[0mget_loc\u001b[0m\u001b[1;33m(\u001b[0m\u001b[0mkey\u001b[0m\u001b[1;33m)\u001b[0m\u001b[1;33m\u001b[0m\u001b[1;33m\u001b[0m\u001b[0m\n\u001b[0m\u001b[0;32m   3459\u001b[0m             \u001b[1;32mif\u001b[0m \u001b[0mis_integer\u001b[0m\u001b[1;33m(\u001b[0m\u001b[0mindexer\u001b[0m\u001b[1;33m)\u001b[0m\u001b[1;33m:\u001b[0m\u001b[1;33m\u001b[0m\u001b[1;33m\u001b[0m\u001b[0m\n\u001b[0;32m   3460\u001b[0m                 \u001b[0mindexer\u001b[0m \u001b[1;33m=\u001b[0m \u001b[1;33m[\u001b[0m\u001b[0mindexer\u001b[0m\u001b[1;33m]\u001b[0m\u001b[1;33m\u001b[0m\u001b[1;33m\u001b[0m\u001b[0m\n",
      "\u001b[1;32m~\\Anaconda3\\lib\\site-packages\\pandas\\core\\indexes\\base.py\u001b[0m in \u001b[0;36mget_loc\u001b[1;34m(self, key, method, tolerance)\u001b[0m\n\u001b[0;32m   3361\u001b[0m                 \u001b[1;32mreturn\u001b[0m \u001b[0mself\u001b[0m\u001b[1;33m.\u001b[0m\u001b[0m_engine\u001b[0m\u001b[1;33m.\u001b[0m\u001b[0mget_loc\u001b[0m\u001b[1;33m(\u001b[0m\u001b[0mcasted_key\u001b[0m\u001b[1;33m)\u001b[0m\u001b[1;33m\u001b[0m\u001b[1;33m\u001b[0m\u001b[0m\n\u001b[0;32m   3362\u001b[0m             \u001b[1;32mexcept\u001b[0m \u001b[0mKeyError\u001b[0m \u001b[1;32mas\u001b[0m \u001b[0merr\u001b[0m\u001b[1;33m:\u001b[0m\u001b[1;33m\u001b[0m\u001b[1;33m\u001b[0m\u001b[0m\n\u001b[1;32m-> 3363\u001b[1;33m                 \u001b[1;32mraise\u001b[0m \u001b[0mKeyError\u001b[0m\u001b[1;33m(\u001b[0m\u001b[0mkey\u001b[0m\u001b[1;33m)\u001b[0m \u001b[1;32mfrom\u001b[0m \u001b[0merr\u001b[0m\u001b[1;33m\u001b[0m\u001b[1;33m\u001b[0m\u001b[0m\n\u001b[0m\u001b[0;32m   3364\u001b[0m \u001b[1;33m\u001b[0m\u001b[0m\n\u001b[0;32m   3365\u001b[0m         \u001b[1;32mif\u001b[0m \u001b[0mis_scalar\u001b[0m\u001b[1;33m(\u001b[0m\u001b[0mkey\u001b[0m\u001b[1;33m)\u001b[0m \u001b[1;32mand\u001b[0m \u001b[0misna\u001b[0m\u001b[1;33m(\u001b[0m\u001b[0mkey\u001b[0m\u001b[1;33m)\u001b[0m \u001b[1;32mand\u001b[0m \u001b[1;32mnot\u001b[0m \u001b[0mself\u001b[0m\u001b[1;33m.\u001b[0m\u001b[0mhasnans\u001b[0m\u001b[1;33m:\u001b[0m\u001b[1;33m\u001b[0m\u001b[1;33m\u001b[0m\u001b[0m\n",
      "\u001b[1;31mKeyError\u001b[0m: 'TEAM'"
     ]
    }
   ],
   "source": [
    "dflist = [dfcbs, dffbs, dfpff, dffp, dfplayer, dfath]\n",
    "for index in range(len(dflist)):\n",
    "#   dflist[index].columns.str.strip().title()\n",
    "    dflist[index].rename(columns=str.title, inplace=True)\n",
    "\n",
    "#dfcbs['TEAM'] = dfcbs['TEAM'].replace(team_dict)\n",
    "#dffbs['TEAM'] = dffbs['TEAM'].replace(team_dict)\n",
    "dfcbs['Team'] = dfcbs['Team'].replace(team_dict)\n",
    "dffbs['Team'] = dffbs['Team'].replace(team_dict)\n",
    "dfpff['Team'] = dffpp['Team'].replace(team_dict)\n",
    "dffp['Team'] = dffpp['Team'].replace(team_dict)\n",
    "\n",
    "df1 = dfath.merge(dfpff[['Team', 'PFFRank']], on=[\"TEAM\"], how=\"left\").merge(dffp[['Team', 'FPRank']], on=[\"TEAM\"], how=\"left\")\n",
    "\n",
    "cols = ['AvgRank', 'PFFRank', 'FPRank']\n",
    "df1[cols] = df1[cols] = df1[cols].apply(pd.to_numeric, errors='coerce', axis=1)\n",
    "df1['OLineAverageRank'] = df1.mean(numeric_only=True, axis=1)                            "
   ]
  },
  {
   "cell_type": "code",
   "execution_count": null,
   "id": "d9069138",
   "metadata": {},
   "outputs": [],
   "source": [
    "df2 = dfcbs.merge(dffbs[['TEAM', 'FBRank']], on=[\"TEAM\"], how=\"left\")\n",
    "\n",
    "cols2 = ['CBSRank' , 'FBRank']\n",
    "df2[cols2] = df2[cols2] = df2[cols2].apply(pd.to_numeric, errors='coerce', axis=1)\n",
    "df2['SOSRank'] = df2.mean(numeric_only=True, axis=1)"
   ]
  },
  {
   "cell_type": "code",
   "execution_count": null,
   "id": "27f4b6ef",
   "metadata": {},
   "outputs": [],
   "source": [
    "df3 = dfplayer.merge(df1)"
   ]
  }
 ],
 "metadata": {
  "kernelspec": {
   "display_name": "Python 3 (ipykernel)",
   "language": "python",
   "name": "python3"
  },
  "language_info": {
   "codemirror_mode": {
    "name": "ipython",
    "version": 3
   },
   "file_extension": ".py",
   "mimetype": "text/x-python",
   "name": "python",
   "nbconvert_exporter": "python",
   "pygments_lexer": "ipython3",
   "version": "3.9.7"
  }
 },
 "nbformat": 4,
 "nbformat_minor": 5
}
